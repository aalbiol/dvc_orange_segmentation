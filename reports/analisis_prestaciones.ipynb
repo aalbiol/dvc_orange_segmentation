{
 "cells": [
  {
   "cell_type": "code",
   "execution_count": 1,
   "metadata": {
    "execution": {
     "iopub.execute_input": "2024-12-14T12:36:41.984812Z",
     "iopub.status.busy": "2024-12-14T12:36:41.984681Z",
     "iopub.status.idle": "2024-12-14T12:36:43.859118Z",
     "shell.execute_reply": "2024-12-14T12:36:43.858654Z"
    }
   },
   "outputs": [],
   "source": [
    "import torch\n",
    "from torchmetrics import AUROC\n",
    "import matplotlib.pyplot as plt\n",
    "import numpy as np\n",
    "import pandas as pd\n",
    "import json\n",
    "import os"
   ]
  },
  {
   "cell_type": "code",
   "execution_count": 2,
   "metadata": {
    "execution": {
     "iopub.execute_input": "2024-12-14T12:36:43.860996Z",
     "iopub.status.busy": "2024-12-14T12:36:43.860805Z",
     "iopub.status.idle": "2024-12-14T12:36:43.863070Z",
     "shell.execute_reply": "2024-12-14T12:36:43.862734Z"
    }
   },
   "outputs": [],
   "source": [
    "current_file_dir = os.getcwd()\n"
   ]
  },
  {
   "cell_type": "code",
   "execution_count": 3,
   "metadata": {
    "execution": {
     "iopub.execute_input": "2024-12-14T12:36:43.864378Z",
     "iopub.status.busy": "2024-12-14T12:36:43.864266Z",
     "iopub.status.idle": "2024-12-14T12:36:43.897126Z",
     "shell.execute_reply": "2024-12-14T12:36:43.896685Z"
    }
   },
   "outputs": [
    {
     "name": "stdout",
     "output_type": "stream",
     "text": [
      "5570\n",
      "1497\n"
     ]
    }
   ],
   "source": [
    "train_results_json=\"../out_evaluate/train_scores.json\"\n",
    "val_results_json=\"../out_evaluate/val_scores.json\"\n",
    "train_results_json=os.path.join(current_file_dir,train_results_json)    \n",
    "val_results_json=os.path.join(current_file_dir,val_results_json)    \n",
    "\n",
    "\n",
    "\n",
    "\n",
    "def create_tables(train_data,clases):\n",
    "    labels=[]\n",
    "    preds=[]\n",
    "    for d in train_data:\n",
    "        truth=[]\n",
    "        pred=[]\n",
    "        gt=d['ground_truth']\n",
    "        scores=d['scores']\n",
    "        scores={k.lower():v for k,v in scores.items()}\n",
    "        gt={k.lower():v for k,v in gt.items()}\n",
    "        #print(scores)\n",
    "        for defecto in clases:\n",
    "            defecto=defecto.lower()\n",
    "            truth.append(gt[defecto])\n",
    "            pred.append(scores[defecto])\n",
    "        labels.append(truth)\n",
    "        preds.append(pred)\n",
    "            \n",
    "    labels=torch.tensor(labels)\n",
    "    preds=torch.tensor(preds)\n",
    "\n",
    "    return preds,labels\n",
    "\n",
    "\n",
    "with open(train_results_json, \"r\") as f:\n",
    "    train_dict = json.load(f)\n",
    "\n",
    "with open(val_results_json, \"r\") as f:\n",
    "    val_dict = json.load(f)    \n",
    "\n",
    "train_data=train_dict['train_results']\n",
    "val_data = val_dict['val_results']\n",
    "clases=list(train_dict['train_results'][0]['ground_truth'].keys())\n",
    "clases=[c.lower() for c in clases]\n",
    "\n",
    "print(len(train_data))\n",
    "print(len(val_data))"
   ]
  },
  {
   "cell_type": "code",
   "execution_count": 4,
   "metadata": {
    "execution": {
     "iopub.execute_input": "2024-12-14T12:36:43.925970Z",
     "iopub.status.busy": "2024-12-14T12:36:43.925715Z",
     "iopub.status.idle": "2024-12-14T12:36:43.942178Z",
     "shell.execute_reply": "2024-12-14T12:36:43.941725Z"
    }
   },
   "outputs": [],
   "source": [
    "preds_train,labels_train=create_tables(train_data,clases)\n",
    "preds_val,labels_val=create_tables(val_data,clases)"
   ]
  },
  {
   "cell_type": "markdown",
   "metadata": {},
   "source": [
    "# Cantidad de muestras de con cada defecto"
   ]
  },
  {
   "cell_type": "code",
   "execution_count": 5,
   "metadata": {
    "execution": {
     "iopub.execute_input": "2024-12-14T12:36:43.943428Z",
     "iopub.status.busy": "2024-12-14T12:36:43.943316Z",
     "iopub.status.idle": "2024-12-14T12:36:43.948735Z",
     "shell.execute_reply": "2024-12-14T12:36:43.948286Z"
    }
   },
   "outputs": [
    {
     "name": "stdout",
     "output_type": "stream",
     "text": [
      "==========================================\n",
      "  ** VAL **\n",
      "==========================================\n",
      "pedunculo : 661\n",
      "contraped : 625\n",
      "N sin defectos: 211\n",
      "N total: 1497\n",
      "\n",
      "==========================================\n",
      "  ** TRAIN **\n",
      "==========================================\n",
      "pedunculo : 2297\n",
      "contraped : 2406\n",
      "N sin defectos: 867\n",
      "N total: 5570\n"
     ]
    }
   ],
   "source": [
    "print(\"==========================================\")\n",
    "print(\"  ** VAL **\")\n",
    "print(\"==========================================\")\n",
    "\n",
    "n_por_defecto=labels_val.sum(dim=0)\n",
    "for k in range(len(clases)):\n",
    "    print(f'{clases[k]} : {int(n_por_defecto[k].item())}')\n",
    "\n",
    "k=labels_val.sum(dim=1)\n",
    "\n",
    "nbuenos=torch.sum(k==0)\n",
    "print(\"N sin defectos:\",nbuenos.item())\n",
    "print(\"N total:\",labels_val.shape[0])\n",
    "\n",
    "print(\"\\n==========================================\")\n",
    "print(\"  ** TRAIN **\")\n",
    "print(\"==========================================\")\n",
    "\n",
    "n_por_defecto=labels_train.sum(dim=0)\n",
    "for k in range(len(clases)):\n",
    "    print(f'{clases[k]} : {int(n_por_defecto[k].item())}')\n",
    "\n",
    "k=labels_train.sum(dim=1)\n",
    "\n",
    "nbuenos=torch.sum(k==0)\n",
    "print(\"N sin defectos:\",nbuenos.item())\n",
    "print(\"N total:\",labels_train.shape[0])"
   ]
  },
  {
   "cell_type": "markdown",
   "metadata": {},
   "source": [
    "# Análisis AUROC por categorías"
   ]
  },
  {
   "cell_type": "code",
   "execution_count": 6,
   "metadata": {
    "execution": {
     "iopub.execute_input": "2024-12-14T12:36:43.950050Z",
     "iopub.status.busy": "2024-12-14T12:36:43.949913Z",
     "iopub.status.idle": "2024-12-14T12:36:43.956668Z",
     "shell.execute_reply": "2024-12-14T12:36:43.956259Z"
    }
   },
   "outputs": [
    {
     "name": "stdout",
     "output_type": "stream",
     "text": [
      "AUC-val(pedunculo) : 0.996\n",
      "AUC-val(contraped) : 0.990\n"
     ]
    }
   ],
   "source": [
    "f_auroc=AUROC(task='multilabel',num_labels=len(clases),average='none')\n",
    "res=f_auroc(preds_val,labels_val.int())\n",
    "res=res.tolist()\n",
    "\n",
    "aucs={}\n",
    "for c,auc in zip(clases,res):\n",
    "    aucs[c]=auc\n",
    "    print(f'AUC-val({c}) : {auc:.3f}')\n"
   ]
  },
  {
   "cell_type": "markdown",
   "metadata": {},
   "source": [
    "# Histogramas de probabilidades por clase\n",
    "\n",
    "## Validación"
   ]
  },
  {
   "cell_type": "code",
   "execution_count": 7,
   "metadata": {
    "execution": {
     "iopub.execute_input": "2024-12-14T12:36:43.958094Z",
     "iopub.status.busy": "2024-12-14T12:36:43.957965Z",
     "iopub.status.idle": "2024-12-14T12:36:44.391120Z",
     "shell.execute_reply": "2024-12-14T12:36:44.390825Z"
    }
   },
   "outputs": [
    {
     "data": {
      "image/png": "[encoded data removed]",
      "text/plain": [
       "<Figure size 640x480 with 1 Axes>"
      ]
     },
     "metadata": {},
     "output_type": "display_data"
    },
    {
     "data": {
      "image/png": "[encoded data removed]",
      "text/plain": [
       "<Figure size 640x480 with 1 Axes>"
      ]
     },
     "metadata": {},
     "output_type": "display_data"
    }
   ],
   "source": [
    "for id_clase in range(len(clases)):\n",
    "    prob=preds_val[:,id_clase]\n",
    "    t=labels_val[:,id_clase]\n",
    "\n",
    "    target_pos=t[t>0.5]\n",
    "    pred_pos=prob[t>0.5]\n",
    "\n",
    "    target_neg=t[t<0.5]\n",
    "    pred_neg=prob[t<0.5]\n",
    "\n",
    "    \n",
    "    hh=np.ones(3)/3\n",
    "    hpos,e=np.histogram(pred_pos,bins=20,range=(0.0,1.0),density=True)\n",
    "    hneg,f=np.histogram(pred_neg,bins=20,range=(0.0,1.0),density=True)\n",
    "    \n",
    "    hpos=np.convolve(hpos, hh, 'same')\n",
    "    hneg=np.convolve(hneg, hh, 'same')\n",
    "    _=plt.figure()\n",
    "    _=plt.plot(e[:-1],hpos)\n",
    "    _=plt.plot(f[:-1],hneg)\n",
    "    _=plt.title(clases[id_clase])\n",
    "    _=plt.grid()"
   ]
  },
  {
   "cell_type": "code",
   "execution_count": null,
   "metadata": {},
   "outputs": [],
   "source": []
  }
 ],
 "metadata": {
  "kernelspec": {
   "display_name": "mscandvc",
   "language": "python",
   "name": "python3"
  },
  "language_info": {
   "codemirror_mode": {
    "name": "ipython",
    "version": 3
   },
   "file_extension": ".py",
   "mimetype": "text/x-python",
   "name": "python",
   "nbconvert_exporter": "python",
   "pygments_lexer": "ipython3",
   "version": "3.12.0"
  }
 },
 "nbformat": 4,
 "nbformat_minor": 2
}
